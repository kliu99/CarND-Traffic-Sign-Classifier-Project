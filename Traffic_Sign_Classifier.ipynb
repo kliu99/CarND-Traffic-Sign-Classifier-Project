{
 "cells": [
  {
   "cell_type": "markdown",
   "metadata": {},
   "source": [
    "# Self-Driving Car Engineer Nanodegree\n",
    "\n",
    "## Deep Learning\n",
    "\n",
    "## Project: Build a Traffic Sign Recognition Classifier\n",
    "\n",
    "In this notebook, a template is provided for you to implement your functionality in stages, which is required to successfully complete this project. If additional code is required that cannot be included in the notebook, be sure that the Python code is successfully imported and included in your submission if necessary. \n",
    "\n",
    "> **Note**: Once you have completed all of the code implementations, you need to finalize your work by exporting the iPython Notebook as an HTML document. Before exporting the notebook to html, all of the code cells need to have been run so that reviewers can see the final implementation and output. You can then export the notebook by using the menu above and navigating to  \\n\",\n",
    "    \"**File -> Download as -> HTML (.html)**. Include the finished document along with this notebook as your submission. \n",
    "\n",
    "In addition to implementing code, there is a writeup to complete. The writeup should be completed in a separate file, which can be either a markdown file or a pdf document. There is a [write up template](https://github.com/udacity/CarND-Traffic-Sign-Classifier-Project/blob/master/writeup_template.md) that can be used to guide the writing process. Completing the code template and writeup template will cover all of the [rubric points](https://review.udacity.com/#!/rubrics/481/view) for this project.\n",
    "\n",
    "The [rubric](https://review.udacity.com/#!/rubrics/481/view) contains \"Stand Out Suggestions\" for enhancing the project beyond the minimum requirements. The stand out suggestions are optional. If you decide to pursue the \"stand out suggestions\", you can include the code in this Ipython notebook and also discuss the results in the writeup file.\n",
    "\n",
    "\n",
    ">**Note:** Code and Markdown cells can be executed using the **Shift + Enter** keyboard shortcut. In addition, Markdown cells can be edited by typically double-clicking the cell to enter edit mode."
   ]
  },
  {
   "cell_type": "markdown",
   "metadata": {},
   "source": [
    "---\n",
    "## Step 0: Load The Data"
   ]
  },
  {
   "cell_type": "code",
   "execution_count": 9,
   "metadata": {
    "collapsed": true
   },
   "outputs": [],
   "source": [
    "# Load pickled data\n",
    "import pickle\n",
    "\n",
    "# DONE: Fill this in based on where you saved the training and testing data\n",
    "\n",
    "training_file = 'train.p'\n",
    "validation_file= 'valid.p'\n",
    "testing_file = 'test.p'\n",
    "\n",
    "with open(training_file, mode='rb') as f:\n",
    "    train = pickle.load(f)\n",
    "with open(validation_file, mode='rb') as f:\n",
    "    valid = pickle.load(f)\n",
    "with open(testing_file, mode='rb') as f:\n",
    "    test = pickle.load(f)\n",
    "    \n",
    "X_train, y_train = train['features'], train['labels']\n",
    "X_valid, y_valid = valid['features'], valid['labels']\n",
    "X_test, y_test = test['features'], test['labels']\n",
    "\n",
    "\n",
    "# Traffic sign name\n",
    "import csv\n",
    "sign_names = []\n",
    "with open('signnames.csv') as csvfile:\n",
    "    rows = csv.reader(csvfile)\n",
    "    # Skip header\n",
    "    next(rows)\n",
    "    for row in rows:\n",
    "        sign_names.append(row[1])\n",
    "    "
   ]
  },
  {
   "cell_type": "markdown",
   "metadata": {},
   "source": [
    "---\n",
    "\n",
    "## Step 1: Dataset Summary & Exploration\n",
    "\n",
    "The pickled data is a dictionary with 4 key/value pairs:\n",
    "\n",
    "- `'features'` is a 4D array containing raw pixel data of the traffic sign images, (num examples, width, height, channels).\n",
    "- `'labels'` is a 1D array containing the label/class id of the traffic sign. The file `signnames.csv` contains id -> name mappings for each id.\n",
    "- `'sizes'` is a list containing tuples, (width, height) representing the original width and height the image.\n",
    "- `'coords'` is a list containing tuples, (x1, y1, x2, y2) representing coordinates of a bounding box around the sign in the image. **THESE COORDINATES ASSUME THE ORIGINAL IMAGE. THE PICKLED DATA CONTAINS RESIZED VERSIONS (32 by 32) OF THESE IMAGES**\n",
    "\n",
    "Complete the basic data summary below. Use python, numpy and/or pandas methods to calculate the data summary rather than hard coding the results. For example, the [pandas shape method](http://pandas.pydata.org/pandas-docs/stable/generated/pandas.DataFrame.shape.html) might be useful for calculating some of the summary results. "
   ]
  },
  {
   "cell_type": "markdown",
   "metadata": {},
   "source": [
    "### Provide a Basic Summary of the Data Set Using Python, Numpy and/or Pandas"
   ]
  },
  {
   "cell_type": "code",
   "execution_count": 10,
   "metadata": {},
   "outputs": [
    {
     "name": "stdout",
     "output_type": "stream",
     "text": [
      "Number of training examples = 34799\n",
      "Number of testing examples = 12630\n",
      "Image data shape = (32, 32)\n",
      "Number of classes = 43\n"
     ]
    }
   ],
   "source": [
    "### Replace each question mark with the appropriate value. \n",
    "### Use python, pandas or numpy methods rather than hard coding the results\n",
    "\n",
    "# DONE: Number of training examples\n",
    "n_train = X_train.shape[0]\n",
    "\n",
    "# DONE: Number of validation examples\n",
    "n_validation = X_valid.shape[0]\n",
    "\n",
    "# DONE: Number of testing examples.\n",
    "n_test = X_test.shape[0]\n",
    "\n",
    "# DONE: What's the shape of an traffic sign image?\n",
    "image_shape = X_train.shape[1:3]\n",
    "\n",
    "# DONE: How many unique classes/labels there are in the dataset.\n",
    "n_classes = len(sign_names)\n",
    "\n",
    "print(\"Number of training examples =\", n_train)\n",
    "print(\"Number of testing examples =\", n_test)\n",
    "print(\"Image data shape =\", image_shape)\n",
    "print(\"Number of classes =\", n_classes)"
   ]
  },
  {
   "cell_type": "markdown",
   "metadata": {},
   "source": [
    "### Include an exploratory visualization of the dataset"
   ]
  },
  {
   "cell_type": "markdown",
   "metadata": {},
   "source": [
    "Visualize the German Traffic Signs Dataset using the pickled file(s). This is open ended, suggestions include: plotting traffic sign images, plotting the count of each sign, etc. \n",
    "\n",
    "The [Matplotlib](http://matplotlib.org/) [examples](http://matplotlib.org/examples/index.html) and [gallery](http://matplotlib.org/gallery.html) pages are a great resource for doing visualizations in Python.\n",
    "\n",
    "**NOTE:** It's recommended you start with something simple first. If you wish to do more, come back to it after you've completed the rest of the sections. It can be interesting to look at the distribution of classes in the training, validation and test set. Is the distribution the same? Are there more examples of some classes than others?"
   ]
  },
  {
   "cell_type": "code",
   "execution_count": 11,
   "metadata": {},
   "outputs": [
    {
     "name": "stdout",
     "output_type": "stream",
     "text": [
      "31:Wild animals crossing\n"
     ]
    },
    {
     "data": {
      "image/png": "[encoded data removed]",
      "text/plain": [
       "<matplotlib.figure.Figure at 0x7fd98c3efa90>"
      ]
     },
     "metadata": {},
     "output_type": "display_data"
    }
   ],
   "source": [
    "### Data exploration visualization code goes here.\n",
    "### Feel free to use as many code cells as needed.\n",
    "import random\n",
    "import numpy as np\n",
    "import matplotlib.pyplot as plt\n",
    "# Visualizations will be shown in the notebook.\n",
    "%matplotlib inline\n",
    "\n",
    "index = random.randint(0, n_train)\n",
    "image = X_train[index].squeeze()\n",
    "\n",
    "plt.figure(figsize=(1,1))\n",
    "plt.imshow(image)\n",
    "print(str(y_train[index]) + ':' + sign_names[y_train[index]])"
   ]
  },
  {
   "cell_type": "markdown",
   "metadata": {},
   "source": [
    "----\n",
    "\n",
    "## Step 2: Design and Test a Model Architecture\n",
    "\n",
    "Design and implement a deep learning model that learns to recognize traffic signs. Train and test your model on the [German Traffic Sign Dataset](http://benchmark.ini.rub.de/?section=gtsrb&subsection=dataset).\n",
    "\n",
    "The LeNet-5 implementation shown in the [classroom](https://classroom.udacity.com/nanodegrees/nd013/parts/fbf77062-5703-404e-b60c-95b78b2f3f9e/modules/6df7ae49-c61c-4bb2-a23e-6527e69209ec/lessons/601ae704-1035-4287-8b11-e2c2716217ad/concepts/d4aca031-508f-4e0b-b493-e7b706120f81) at the end of the CNN lesson is a solid starting point. You'll have to change the number of classes and possibly the preprocessing, but aside from that it's plug and play! \n",
    "\n",
    "With the LeNet-5 solution from the lecture, you should expect a validation set accuracy of about 0.89. To meet specifications, the validation set accuracy will need to be at least 0.93. It is possible to get an even higher accuracy, but 0.93 is the minimum for a successful project submission. \n",
    "\n",
    "There are various aspects to consider when thinking about this problem:\n",
    "\n",
    "- Neural network architecture (is the network over or underfitting?)\n",
    "- Play around preprocessing techniques (normalization, rgb to grayscale, etc)\n",
    "- Number of examples per label (some have more than others).\n",
    "- Generate fake data.\n",
    "\n",
    "Here is an example of a [published baseline model on this problem](http://yann.lecun.com/exdb/publis/pdf/sermanet-ijcnn-11.pdf). It's not required to be familiar with the approach used in the paper but, it's good practice to try to read papers like these."
   ]
  },
  {
   "cell_type": "markdown",
   "metadata": {},
   "source": [
    "### Pre-process the Data Set (normalization, grayscale, etc.)"
   ]
  },
  {
   "cell_type": "markdown",
   "metadata": {},
   "source": [
    "Minimally, the image data should be normalized so that the data has mean zero and equal variance. For image data, `(pixel - 128)/ 128` is a quick way to approximately normalize the data and can be used in this project. \n",
    "\n",
    "Other pre-processing steps are optional. You can try different techniques to see if it improves performance. \n",
    "\n",
    "Use the code cell (or multiple code cells, if necessary) to implement the first step of your project."
   ]
  },
  {
   "cell_type": "code",
   "execution_count": 12,
   "metadata": {
    "scrolled": true
   },
   "outputs": [
    {
     "name": "stdout",
     "output_type": "stream",
     "text": [
      "Pre-processing data set complete\n"
     ]
    }
   ],
   "source": [
    "### Preprocess the data here. It is required to normalize the data. Other preprocessing steps could include \n",
    "### converting to grayscale, etc.\n",
    "### Feel free to use as many code cells as needed.\n",
    "\n",
    "def rgb2gray(rgb):\n",
    "    r, g, b = rgb[:, :,:,0], rgb[:, :,:,1], rgb[:, :,:,2]\n",
    "    gray = 0.2989 * r + 0.5870 * g + 0.1140 * b\n",
    "    return gray[:, :, :, None]\n",
    "\n",
    "\n",
    "X_train = rgb2gray(X_train)\n",
    "X_valid = rgb2gray(X_valid)\n",
    "X_test = rgb2gray(X_test)\n",
    "\n",
    "\n",
    "\n",
    "# X_train = normalize(X_train)\n",
    "# X_valid = normalize(X_valid)\n",
    "# X_test = normalize(X_test)\n",
    "# Normal validation and test\n",
    "\n",
    "from sklearn.utils import shuffle\n",
    "X_train, y_train = shuffle(X_train, y_train)\n",
    "\n",
    "print('Pre-processing data set complete')\n"
   ]
  },
  {
   "cell_type": "code",
   "execution_count": 21,
   "metadata": {},
   "outputs": [],
   "source": [
    "def normalize(image):\n",
    "    return image / 255\n",
    "\n",
    "X_train = normalize(X_train)\n",
    "X_valid = normalize(X_valid)\n",
    "X_test = normalize(X_test)"
   ]
  },
  {
   "cell_type": "markdown",
   "metadata": {},
   "source": [
    "### Model Architecture"
   ]
  },
  {
   "cell_type": "markdown",
   "metadata": {},
   "source": [
    "### Import tensorflow"
   ]
  },
  {
   "cell_type": "code",
   "execution_count": 22,
   "metadata": {
    "collapsed": true
   },
   "outputs": [],
   "source": [
    "import tensorflow as tf"
   ]
  },
  {
   "cell_type": "markdown",
   "metadata": {},
   "source": [
    "### Convolution and Max Pooling Layer"
   ]
  },
  {
   "cell_type": "code",
   "execution_count": 51,
   "metadata": {},
   "outputs": [],
   "source": [
    "def conv2d(x_tensor, weight, bias, strides):\n",
    "    \"\"\"\n",
    "        Convolutional layer with ReLU as activation funciton\n",
    "    \"\"\"\n",
    "    \n",
    "    # Conv net\n",
    "    x = tf.nn.conv2d(\n",
    "        x_tensor,\n",
    "        weight,\n",
    "        strides=[1,strides[0], strides[1], 1],\n",
    "        padding='VALID'\n",
    "    )\n",
    "    # Add bias term\n",
    "    x = tf.nn.bias_add(x, bias)\n",
    "    # Apply activation function\n",
    "    return tf.nn.relu(x)\n",
    "\n",
    "\n",
    "def maxpool2d(x, k, strides):\n",
    "    \"\"\"\n",
    "        Apply max pooling on convolutional network\n",
    "    \"\"\"\n",
    "    return tf.nn.max_pool(\n",
    "        x,\n",
    "        ksize=[1, k[0], k[1], 1],\n",
    "        strides=[1, strides[0], strides[1], 1],\n",
    "        padding='VALID'\n",
    "    )\n",
    "\n",
    "\n",
    "def conv2d_maxpool(x_tensor, conv_num_outputs, conv_ksize, conv_strides, pool_ksize, pool_strides):\n",
    "    \"\"\"\n",
    "    Apply convolution then max pooling to x_tensor\n",
    "    :param x_tensor: TensorFlow Tensor\n",
    "    :param conv_num_outputs: Number of outputs for the convolutional layer\n",
    "    :param conv_ksize: kernal size 2-D Tuple for the convolutional layer\n",
    "    :param conv_strides: Stride 2-D Tuple for convolution\n",
    "    :param pool_ksize: kernal size 2-D Tuple for pool\n",
    "    :param pool_strides: Stride 2-D Tuple for pool\n",
    "    : return: A tensor that represents convolution and max pooling of x_tensor\n",
    "    \"\"\"\n",
    "    \n",
    "    color_channel = x_tensor.get_shape().as_list()[3]\n",
    "    \n",
    "    weight = tf.Variable(tf.truncated_normal(shape=(conv_ksize[0], conv_ksize[1], color_channel, conv_num_outputs), \n",
    "                                             mean=MU, stddev=SIGMA, dtype=tf.float32))\n",
    "    bias = tf.Variable(tf.zeros(conv_num_outputs))\n",
    "    conv = conv2d(x_tensor, weight, bias, conv_strides)\n",
    "    conv = maxpool2d(conv, pool_ksize, pool_strides)\n",
    "    \n",
    "    return conv"
   ]
  },
  {
   "cell_type": "markdown",
   "metadata": {},
   "source": [
    "### Flatten Layer"
   ]
  },
  {
   "cell_type": "code",
   "execution_count": 60,
   "metadata": {
    "collapsed": true
   },
   "outputs": [],
   "source": [
    "def flatten(x_tensor):\n",
    "    \"\"\"\n",
    "    Flatten x_tensor to (Batch Size, Flattened Image Size)\n",
    "    : x_tensor: A tensor of size (Batch Size, ...), where ... are the image dimensions.\n",
    "    : return: A tensor of size (Batch Size, Flattened Image Size).\n",
    "    \"\"\"\n",
    "    \n",
    "    return tf.contrib.layers.flatten(x_tensor)"
   ]
  },
  {
   "cell_type": "markdown",
   "metadata": {},
   "source": [
    "### Output Layer"
   ]
  },
  {
   "cell_type": "code",
   "execution_count": 88,
   "metadata": {
    "collapsed": true
   },
   "outputs": [],
   "source": [
    "def output(x_tensor, num_outputs):\n",
    "    \"\"\"\n",
    "    Apply a output layer to x_tensor using weight and bias\n",
    "    : x_tensor: A 2-D tensor where the first dimension is batch size.\n",
    "    : num_outputs: The number of output that the new tensor should be.\n",
    "    : return: A 2-D tensor where the second dimension is num_outputs.\n",
    "    \"\"\"\n",
    "    \n",
    "    input_shape = x_tensor.get_shape().as_list()\n",
    "    \n",
    "    weight = tf.Variable(tf.truncated_normal(shape=[input_shape[1], num_outputs],\n",
    "                                             mean=MU, stddev=SIGMA, dtype=tf.float32))\n",
    "    bias = tf.Variable(tf.zeros(num_outputs))\n",
    "    \n",
    "    x = tf.matmul(x_tensor, weight)\n",
    "    x = tf.add(x, bias)\n",
    "    \n",
    "    return x"
   ]
  },
  {
   "cell_type": "markdown",
   "metadata": {},
   "source": [
    "### Fully-Connected Layer"
   ]
  },
  {
   "cell_type": "code",
   "execution_count": 89,
   "metadata": {
    "collapsed": true
   },
   "outputs": [],
   "source": [
    "def fully_conn(x_tensor, num_outputs):\n",
    "    \"\"\"\n",
    "    Apply a fully connected layer to x_tensor using weight and bias with ReLU as activation function\n",
    "    : x_tensor: A 2-D tensor where the first dimension is batch size.\n",
    "    : num_outputs: The number of output that the new tensor should be.\n",
    "    : return: A 2-D tensor where the second dimension is num_outputs.\n",
    "    \"\"\"\n",
    "    \n",
    "    x = output(x_tensor, num_outputs)\n",
    "    return tf.nn.relu(x)"
   ]
  },
  {
   "cell_type": "markdown",
   "metadata": {},
   "source": [
    "### Create Convolutional Model\n",
    "- Apply Convolution and Max Pool layers\n",
    "- Apply a Flatten Layer\n",
    "- Apply Fully Connected Layers\n",
    "- Apply an Output Layer\n",
    "- Return the output"
   ]
  },
  {
   "cell_type": "code",
   "execution_count": 135,
   "metadata": {
    "collapsed": true
   },
   "outputs": [],
   "source": [
    "### Define your architecture here.\n",
    "### Feel free to use as many code cells as needed.\n",
    "   \n",
    "def LeNet(x):    \n",
    "    # Arguments used for tf.truncated_normal, randomly defines variables for the weights and biases for each layer\n",
    "    MU = 0\n",
    "    SIGMA = 0.1\n",
    "    \n",
    "    conv_ksize = [5, 5]\n",
    "    conv_strides = [1, 1]\n",
    "    pool_ksize = [2, 2]\n",
    "    pool_strides = [2, 2]\n",
    "\n",
    "    # Layer 1: Convolutional.\n",
    "    conv1 = conv2d_maxpool(x, 6, conv_ksize, conv_strides, pool_ksize, pool_strides)\n",
    "    \n",
    "    # Layer 2: Convolutional.\n",
    "    conv2 = conv2d_maxpool(conv1, 16, conv_ksize, conv_strides, pool_ksize, pool_strides)\n",
    "    \n",
    "    # Layer 3: 1x1 Convolutional.\n",
    "    conv3 = conv2d_maxpool(conv2, 64, [1, 1], conv_strides, pool_ksize, pool_strides)\n",
    "        \n",
    "    # Flatten Layer\n",
    "    ft1   = flatten(conv3)\n",
    "    \n",
    "    # Layer 3: Fully Connected with dropout\n",
    "    fc1 = fully_conn(ft1, 120)\n",
    "    fc1 = tf.nn.dropout(fc1, keep_prob)\n",
    "    # Layer 4: Fully Connected\n",
    "    fc2 = fully_conn(fc1, 84)   \n",
    "    \n",
    "    # Layer 5: Output layer.    \n",
    "    logits = output(fc2, n_classes)\n",
    "    \n",
    "    return logits\n"
   ]
  },
  {
   "cell_type": "markdown",
   "metadata": {},
   "source": [
    "### Features and Labels"
   ]
  },
  {
   "cell_type": "code",
   "execution_count": 136,
   "metadata": {
    "collapsed": true
   },
   "outputs": [],
   "source": [
    "x = tf.placeholder(tf.float32, (None, 32, 32, 1), name=\"x\")\n",
    "y = tf.placeholder(tf.int32, (None), name=\"y\")\n",
    "keep_prob = tf.placeholder(\"float\", name=\"keep_prob\")\n",
    "one_hot_y = tf.one_hot(y, 43)"
   ]
  },
  {
   "cell_type": "markdown",
   "metadata": {},
   "source": [
    "### Train, Validate and Test the Model"
   ]
  },
  {
   "cell_type": "markdown",
   "metadata": {},
   "source": [
    "A validation set can be used to assess how well the model is performing. A low accuracy on the training and validation\n",
    "sets imply underfitting. A high accuracy on the training set but low accuracy on the validation set implies overfitting."
   ]
  },
  {
   "cell_type": "markdown",
   "metadata": {},
   "source": [
    "#### Training pipline"
   ]
  },
  {
   "cell_type": "code",
   "execution_count": 137,
   "metadata": {},
   "outputs": [],
   "source": [
    "# Model\n",
    "logits = LeNet(x)\n",
    "\n",
    "# Loss and Optimizer\n",
    "cross_entropy = tf.nn.softmax_cross_entropy_with_logits(labels=one_hot_y, logits=logits)\n",
    "loss_operation = tf.reduce_mean(cross_entropy)\n",
    "optimizer = tf.train.AdamOptimizer(learning_rate = LEARNING_RATE)\n",
    "training_operation = optimizer.minimize(loss_operation)"
   ]
  },
  {
   "cell_type": "markdown",
   "metadata": {},
   "source": [
    "#### Model Evaluation"
   ]
  },
  {
   "cell_type": "code",
   "execution_count": 138,
   "metadata": {},
   "outputs": [],
   "source": [
    "correct_prediction = tf.equal(tf.argmax(logits, 1), tf.argmax(one_hot_y, 1))\n",
    "accuracy_operation = tf.reduce_mean(tf.cast(correct_prediction, tf.float32))\n",
    "saver = tf.train.Saver()\n",
    "\n",
    "def evaluate(X_data, y_data):\n",
    "    num_examples = len(X_data)\n",
    "    total_accuracy = 0\n",
    "    sess = tf.get_default_session()\n",
    "    for offset in range(0, num_examples, BATCH_SIZE):\n",
    "        batch_x, batch_y = X_data[offset:offset+BATCH_SIZE], y_data[offset:offset+BATCH_SIZE]\n",
    "        accuracy = sess.run(accuracy_operation, feed_dict={x: batch_x, y: batch_y, keep_prob: 1.0})\n",
    "        total_accuracy += (accuracy * len(batch_x))\n",
    "    return total_accuracy / num_examples"
   ]
  },
  {
   "cell_type": "markdown",
   "metadata": {},
   "source": [
    "### Training the model\n",
    "#### Hyper-parameters\n",
    "Tune the following parameters:\n",
    "- Set `EPOCHS` to the number of iterations until the network stops learning or start overfitting\n",
    "- Set `BATCH_SIZE` to the highest number that your machine has memory for. Most people set them to common sizes of memory:\n",
    "    - 64\n",
    "    - 128\n",
    "    - 256\n",
    "    - ...\n",
    "- Set `KEEP_PROBABILITY` to the probability of keeping a node using dropout\n",
    "- Set `LEARNING_RATE` to the learning rate of the optimizer\n"
   ]
  },
  {
   "cell_type": "code",
   "execution_count": 139,
   "metadata": {
    "collapsed": true
   },
   "outputs": [],
   "source": [
    "EPOCHS = 100\n",
    "BATCH_SIZE = 128\n",
    "KEEP_PROBABILITY = 0.50\n",
    "LEARNING_RATE = 0.001"
   ]
  },
  {
   "cell_type": "markdown",
   "metadata": {},
   "source": [
    "#### Training the model"
   ]
  },
  {
   "cell_type": "code",
   "execution_count": 140,
   "metadata": {
    "scrolled": true
   },
   "outputs": [
    {
     "name": "stdout",
     "output_type": "stream",
     "text": [
      "Training...\n",
      "\n",
      "EPOCH 1 ...\n",
      "Loss = 2.390 Validation Accuracy = 0.305\n",
      "\n",
      "EPOCH 2 ...\n",
      "Loss = 1.198 Validation Accuracy = 0.611\n",
      "\n",
      "EPOCH 3 ...\n",
      "Loss = 0.858 Validation Accuracy = 0.675\n",
      "\n",
      "EPOCH 4 ...\n",
      "Loss = 0.594 Validation Accuracy = 0.768\n",
      "\n",
      "EPOCH 5 ...\n",
      "Loss = 0.484 Validation Accuracy = 0.789\n",
      "\n",
      "EPOCH 6 ...\n",
      "Loss = 0.382 Validation Accuracy = 0.834\n",
      "\n",
      "EPOCH 7 ...\n",
      "Loss = 0.335 Validation Accuracy = 0.848\n",
      "\n",
      "EPOCH 8 ...\n",
      "Loss = 0.277 Validation Accuracy = 0.867\n",
      "\n",
      "EPOCH 9 ...\n",
      "Loss = 0.233 Validation Accuracy = 0.881\n",
      "\n",
      "EPOCH 10 ...\n",
      "Loss = 0.209 Validation Accuracy = 0.881\n",
      "\n",
      "EPOCH 11 ...\n",
      "Loss = 0.182 Validation Accuracy = 0.877\n",
      "\n",
      "EPOCH 12 ...\n",
      "Loss = 0.158 Validation Accuracy = 0.888\n",
      "\n",
      "EPOCH 13 ...\n",
      "Loss = 0.147 Validation Accuracy = 0.900\n",
      "\n",
      "EPOCH 14 ...\n",
      "Loss = 0.139 Validation Accuracy = 0.896\n",
      "\n",
      "EPOCH 15 ...\n",
      "Loss = 0.111 Validation Accuracy = 0.907\n",
      "\n",
      "EPOCH 16 ...\n",
      "Loss = 0.117 Validation Accuracy = 0.891\n",
      "\n",
      "EPOCH 17 ...\n",
      "Loss = 0.109 Validation Accuracy = 0.892\n",
      "\n",
      "EPOCH 18 ...\n",
      "Loss = 0.092 Validation Accuracy = 0.902\n",
      "\n",
      "EPOCH 19 ...\n",
      "Loss = 0.090 Validation Accuracy = 0.898\n",
      "\n",
      "EPOCH 20 ...\n",
      "Loss = 0.089 Validation Accuracy = 0.899\n",
      "\n",
      "EPOCH 21 ...\n",
      "Loss = 0.073 Validation Accuracy = 0.910\n",
      "\n",
      "EPOCH 22 ...\n",
      "Loss = 0.071 Validation Accuracy = 0.897\n",
      "\n",
      "EPOCH 23 ...\n",
      "Loss = 0.067 Validation Accuracy = 0.916\n",
      "\n",
      "EPOCH 24 ...\n",
      "Loss = 0.062 Validation Accuracy = 0.910\n",
      "\n",
      "EPOCH 25 ...\n",
      "Loss = 0.055 Validation Accuracy = 0.924\n",
      "\n",
      "EPOCH 26 ...\n",
      "Loss = 0.053 Validation Accuracy = 0.915\n",
      "\n",
      "EPOCH 27 ...\n",
      "Loss = 0.054 Validation Accuracy = 0.923\n",
      "\n",
      "EPOCH 28 ...\n",
      "Loss = 0.047 Validation Accuracy = 0.916\n",
      "\n",
      "EPOCH 29 ...\n",
      "Loss = 0.054 Validation Accuracy = 0.908\n",
      "\n",
      "EPOCH 30 ...\n",
      "Loss = 0.048 Validation Accuracy = 0.909\n",
      "\n",
      "EPOCH 31 ...\n",
      "Loss = 0.042 Validation Accuracy = 0.920\n",
      "\n",
      "EPOCH 32 ...\n",
      "Loss = 0.039 Validation Accuracy = 0.921\n",
      "\n",
      "EPOCH 33 ...\n",
      "Loss = 0.036 Validation Accuracy = 0.923\n",
      "\n",
      "EPOCH 34 ...\n",
      "Loss = 0.035 Validation Accuracy = 0.929\n",
      "\n",
      "EPOCH 35 ...\n",
      "Loss = 0.038 Validation Accuracy = 0.924\n",
      "\n",
      "EPOCH 36 ...\n",
      "Loss = 0.032 Validation Accuracy = 0.921\n",
      "\n",
      "EPOCH 37 ...\n",
      "Loss = 0.034 Validation Accuracy = 0.925\n",
      "\n",
      "EPOCH 38 ...\n",
      "Loss = 0.032 Validation Accuracy = 0.929\n",
      "\n",
      "EPOCH 39 ...\n",
      "Loss = 0.028 Validation Accuracy = 0.929\n",
      "\n",
      "EPOCH 40 ...\n",
      "Loss = 0.027 Validation Accuracy = 0.928\n",
      "\n",
      "EPOCH 41 ...\n",
      "Loss = 0.026 Validation Accuracy = 0.920\n",
      "\n",
      "EPOCH 42 ...\n",
      "Loss = 0.023 Validation Accuracy = 0.924\n",
      "\n",
      "EPOCH 43 ...\n",
      "Loss = 0.025 Validation Accuracy = 0.926\n",
      "\n",
      "EPOCH 44 ...\n",
      "Loss = 0.023 Validation Accuracy = 0.919\n",
      "\n",
      "EPOCH 45 ...\n",
      "Loss = 0.022 Validation Accuracy = 0.929\n",
      "\n",
      "EPOCH 46 ...\n",
      "Loss = 0.027 Validation Accuracy = 0.930\n",
      "\n",
      "EPOCH 47 ...\n",
      "Loss = 0.022 Validation Accuracy = 0.929\n",
      "\n",
      "EPOCH 48 ...\n",
      "Loss = 0.022 Validation Accuracy = 0.929\n",
      "\n",
      "EPOCH 49 ...\n",
      "Loss = 0.019 Validation Accuracy = 0.922\n",
      "\n",
      "EPOCH 50 ...\n",
      "Loss = 0.022 Validation Accuracy = 0.922\n",
      "\n",
      "EPOCH 51 ...\n",
      "Loss = 0.019 Validation Accuracy = 0.931\n",
      "\n",
      "EPOCH 52 ...\n",
      "Loss = 0.016 Validation Accuracy = 0.922\n",
      "\n",
      "EPOCH 53 ...\n",
      "Loss = 0.016 Validation Accuracy = 0.927\n",
      "\n",
      "EPOCH 54 ...\n",
      "Loss = 0.016 Validation Accuracy = 0.933\n",
      "\n",
      "EPOCH 55 ...\n",
      "Loss = 0.027 Validation Accuracy = 0.935\n",
      "\n",
      "EPOCH 56 ...\n",
      "Loss = 0.017 Validation Accuracy = 0.931\n",
      "\n",
      "EPOCH 57 ...\n",
      "Loss = 0.017 Validation Accuracy = 0.930\n",
      "\n",
      "EPOCH 58 ...\n",
      "Loss = 0.014 Validation Accuracy = 0.928\n",
      "\n",
      "EPOCH 59 ...\n",
      "Loss = 0.019 Validation Accuracy = 0.918\n",
      "\n",
      "EPOCH 60 ...\n",
      "Loss = 0.015 Validation Accuracy = 0.929\n",
      "\n",
      "EPOCH 61 ...\n",
      "Loss = 0.014 Validation Accuracy = 0.936\n",
      "\n",
      "EPOCH 62 ...\n",
      "Loss = 0.025 Validation Accuracy = 0.931\n",
      "\n",
      "EPOCH 63 ...\n",
      "Loss = 0.013 Validation Accuracy = 0.934\n",
      "\n",
      "EPOCH 64 ...\n",
      "Loss = 0.016 Validation Accuracy = 0.934\n",
      "\n",
      "EPOCH 65 ...\n",
      "Loss = 0.012 Validation Accuracy = 0.935\n",
      "\n",
      "EPOCH 66 ...\n",
      "Loss = 0.011 Validation Accuracy = 0.938\n",
      "\n",
      "EPOCH 67 ...\n",
      "Loss = 0.012 Validation Accuracy = 0.933\n",
      "\n",
      "EPOCH 68 ...\n",
      "Loss = 0.011 Validation Accuracy = 0.932\n",
      "\n",
      "EPOCH 69 ...\n",
      "Loss = 0.013 Validation Accuracy = 0.928\n",
      "\n",
      "EPOCH 70 ...\n",
      "Loss = 0.015 Validation Accuracy = 0.937\n",
      "\n",
      "EPOCH 71 ...\n",
      "Loss = 0.011 Validation Accuracy = 0.931\n",
      "\n",
      "EPOCH 72 ...\n",
      "Loss = 0.010 Validation Accuracy = 0.932\n",
      "\n",
      "EPOCH 73 ...\n",
      "Loss = 0.011 Validation Accuracy = 0.928\n",
      "\n",
      "EPOCH 74 ...\n",
      "Loss = 0.014 Validation Accuracy = 0.928\n",
      "\n",
      "EPOCH 75 ...\n",
      "Loss = 0.008 Validation Accuracy = 0.935\n",
      "\n",
      "EPOCH 76 ...\n",
      "Loss = 0.010 Validation Accuracy = 0.928\n",
      "\n",
      "EPOCH 77 ...\n",
      "Loss = 0.015 Validation Accuracy = 0.928\n",
      "\n",
      "EPOCH 78 ...\n",
      "Loss = 0.008 Validation Accuracy = 0.943\n",
      "\n",
      "EPOCH 79 ...\n",
      "Loss = 0.010 Validation Accuracy = 0.931\n",
      "\n",
      "EPOCH 80 ...\n",
      "Loss = 0.007 Validation Accuracy = 0.935\n",
      "\n",
      "EPOCH 81 ...\n",
      "Loss = 0.010 Validation Accuracy = 0.937\n",
      "\n",
      "EPOCH 82 ...\n",
      "Loss = 0.010 Validation Accuracy = 0.928\n",
      "\n",
      "EPOCH 83 ...\n",
      "Loss = 0.007 Validation Accuracy = 0.945\n",
      "\n",
      "EPOCH 84 ...\n",
      "Loss = 0.011 Validation Accuracy = 0.932\n",
      "\n",
      "EPOCH 85 ...\n",
      "Loss = 0.006 Validation Accuracy = 0.935\n",
      "\n",
      "EPOCH 86 ...\n",
      "Loss = 0.007 Validation Accuracy = 0.943\n",
      "\n",
      "EPOCH 87 ...\n",
      "Loss = 0.006 Validation Accuracy = 0.933\n",
      "\n",
      "EPOCH 88 ...\n",
      "Loss = 0.013 Validation Accuracy = 0.924\n",
      "\n",
      "EPOCH 89 ...\n",
      "Loss = 0.009 Validation Accuracy = 0.936\n",
      "\n",
      "EPOCH 90 ...\n",
      "Loss = 0.009 Validation Accuracy = 0.933\n",
      "\n",
      "EPOCH 91 ...\n",
      "Loss = 0.011 Validation Accuracy = 0.936\n",
      "\n",
      "EPOCH 92 ...\n",
      "Loss = 0.008 Validation Accuracy = 0.934\n",
      "\n",
      "EPOCH 93 ...\n",
      "Loss = 0.008 Validation Accuracy = 0.929\n",
      "\n",
      "EPOCH 94 ...\n",
      "Loss = 0.006 Validation Accuracy = 0.941\n",
      "\n",
      "EPOCH 95 ...\n",
      "Loss = 0.006 Validation Accuracy = 0.943\n",
      "\n",
      "EPOCH 96 ...\n",
      "Loss = 0.007 Validation Accuracy = 0.938\n",
      "\n",
      "EPOCH 97 ...\n",
      "Loss = 0.006 Validation Accuracy = 0.939\n",
      "\n",
      "EPOCH 98 ...\n",
      "Loss = 0.008 Validation Accuracy = 0.936\n",
      "\n",
      "EPOCH 99 ...\n",
      "Loss = 0.009 Validation Accuracy = 0.936\n",
      "\n",
      "EPOCH 100 ...\n",
      "Loss = 0.005 Validation Accuracy = 0.939\n",
      "\n",
      "Model saved\n"
     ]
    }
   ],
   "source": [
    "def train_neural_network(session, optimizer, keep_probability, feature_batch, label_batch):\n",
    "    \"\"\"\n",
    "    Optimize the session on a batch of images and labels\n",
    "    : session: Current TensorFlow session\n",
    "    : optimizer: TensorFlow optimizer function\n",
    "    : keep_probability: keep probability\n",
    "    : feature_batch: Batch of Numpy image data\n",
    "    : label_batch: Batch of Numpy label data\n",
    "    \"\"\"\n",
    "    \n",
    "    session.run(optimizer, feed_dict={\n",
    "        x: feature_batch, \n",
    "        y: label_batch, \n",
    "        keep_prob: keep_probability\n",
    "    })\n",
    "    \n",
    "\n",
    "def print_stats(session, feature, label, cost):\n",
    "    \"\"\"\n",
    "    Print information about loss and validation accuracy\n",
    "    : session: Current TensorFlow session\n",
    "    : feature: Numpy image data\n",
    "    : label: Numpy label data\n",
    "    : cost: TensorFlow cost function\n",
    "    \"\"\"\n",
    "    loss = sess.run(cost, feed_dict={\n",
    "        x: feature, \n",
    "        y: label, \n",
    "        keep_prob: 1.0\n",
    "    })\n",
    "    \n",
    "    valid_acc = evaluate(X_valid, y_valid)\n",
    "    \n",
    "    print(\"Loss = {:.3f} Validation Accuracy = {:.3f}\".format(loss, valid_acc))\n",
    "    print()\n",
    "    \n",
    "    \n",
    "    \n",
    "    \n",
    "with tf.Session() as sess:\n",
    "    sess.run(tf.global_variables_initializer())\n",
    "    num_examples = len(X_train)\n",
    "    \n",
    "    print(\"Training...\")\n",
    "    print()\n",
    "    for i in range(EPOCHS):\n",
    "        X_train, y_train = shuffle(X_train, y_train)\n",
    "        for offset in range(0, num_examples, BATCH_SIZE):\n",
    "            end = offset + BATCH_SIZE\n",
    "            batch_x, batch_y = X_train[offset:end], y_train[offset:end]\n",
    "            train_neural_network(sess, training_operation, KEEP_PROBABILITY, batch_x, batch_y)\n",
    "          \n",
    "        print(\"EPOCH {} ...\".format(i+1))\n",
    "        print_stats(sess, X_train, y_train, loss_operation)\n",
    "\n",
    "        \n",
    "    saver.save(sess, './lenet')\n",
    "    print(\"Model saved\")"
   ]
  },
  {
   "cell_type": "markdown",
   "metadata": {},
   "source": [
    "#### Evaluate the Model "
   ]
  },
  {
   "cell_type": "code",
   "execution_count": 141,
   "metadata": {},
   "outputs": [
    {
     "name": "stdout",
     "output_type": "stream",
     "text": [
      "Testing Accuracy = 0.933\n"
     ]
    }
   ],
   "source": [
    "with tf.Session() as sess:\n",
    "    saver.restore(sess, tf.train.latest_checkpoint('.'))\n",
    "\n",
    "    test_accuracy = evaluate(X_test, y_test)\n",
    "    print(\"Testing Accuracy = {:.3f}\".format(test_accuracy))"
   ]
  },
  {
   "cell_type": "markdown",
   "metadata": {},
   "source": [
    "---\n",
    "\n",
    "## Step 3: Test a Model on New Images\n",
    "\n",
    "To give yourself more insight into how your model is working, download at least five pictures of German traffic signs from the web and use your model to predict the traffic sign type.\n",
    "\n",
    "You may find `signnames.csv` useful as it contains mappings from the class id (integer) to the actual sign name."
   ]
  },
  {
   "cell_type": "markdown",
   "metadata": {},
   "source": [
    "### Load and Output the Images"
   ]
  },
  {
   "cell_type": "code",
   "execution_count": null,
   "metadata": {
    "collapsed": true
   },
   "outputs": [],
   "source": [
    "### Load the images and plot them here.\n",
    "### Feel free to use as many code cells as needed."
   ]
  },
  {
   "cell_type": "markdown",
   "metadata": {},
   "source": [
    "### Predict the Sign Type for Each Image"
   ]
  },
  {
   "cell_type": "code",
   "execution_count": 3,
   "metadata": {
    "collapsed": true
   },
   "outputs": [],
   "source": [
    "### Run the predictions here and use the model to output the prediction for each image.\n",
    "### Make sure to pre-process the images with the same pre-processing pipeline used earlier.\n",
    "### Feel free to use as many code cells as needed."
   ]
  },
  {
   "cell_type": "markdown",
   "metadata": {},
   "source": [
    "### Analyze Performance"
   ]
  },
  {
   "cell_type": "code",
   "execution_count": 4,
   "metadata": {
    "collapsed": true
   },
   "outputs": [],
   "source": [
    "### Calculate the accuracy for these 5 new images. \n",
    "### For example, if the model predicted 1 out of 5 signs correctly, it's 20% accurate on these new images."
   ]
  },
  {
   "cell_type": "markdown",
   "metadata": {},
   "source": [
    "### Output Top 5 Softmax Probabilities For Each Image Found on the Web"
   ]
  },
  {
   "cell_type": "markdown",
   "metadata": {},
   "source": [
    "For each of the new images, print out the model's softmax probabilities to show the **certainty** of the model's predictions (limit the output to the top 5 probabilities for each image). [`tf.nn.top_k`](https://www.tensorflow.org/versions/r0.12/api_docs/python/nn.html#top_k) could prove helpful here. \n",
    "\n",
    "The example below demonstrates how tf.nn.top_k can be used to find the top k predictions for each image.\n",
    "\n",
    "`tf.nn.top_k` will return the values and indices (class ids) of the top k predictions. So if k=3, for each sign, it'll return the 3 largest probabilities (out of a possible 43) and the correspoding class ids.\n",
    "\n",
    "Take this numpy array as an example. The values in the array represent predictions. The array contains softmax probabilities for five candidate images with six possible classes. `tk.nn.top_k` is used to choose the three classes with the highest probability:\n",
    "\n",
    "```\n",
    "# (5, 6) array\n",
    "a = np.array([[ 0.24879643,  0.07032244,  0.12641572,  0.34763842,  0.07893497,\n",
    "         0.12789202],\n",
    "       [ 0.28086119,  0.27569815,  0.08594638,  0.0178669 ,  0.18063401,\n",
    "         0.15899337],\n",
    "       [ 0.26076848,  0.23664738,  0.08020603,  0.07001922,  0.1134371 ,\n",
    "         0.23892179],\n",
    "       [ 0.11943333,  0.29198961,  0.02605103,  0.26234032,  0.1351348 ,\n",
    "         0.16505091],\n",
    "       [ 0.09561176,  0.34396535,  0.0643941 ,  0.16240774,  0.24206137,\n",
    "         0.09155967]])\n",
    "```\n",
    "\n",
    "Running it through `sess.run(tf.nn.top_k(tf.constant(a), k=3))` produces:\n",
    "\n",
    "```\n",
    "TopKV2(values=array([[ 0.34763842,  0.24879643,  0.12789202],\n",
    "       [ 0.28086119,  0.27569815,  0.18063401],\n",
    "       [ 0.26076848,  0.23892179,  0.23664738],\n",
    "       [ 0.29198961,  0.26234032,  0.16505091],\n",
    "       [ 0.34396535,  0.24206137,  0.16240774]]), indices=array([[3, 0, 5],\n",
    "       [0, 1, 4],\n",
    "       [0, 5, 1],\n",
    "       [1, 3, 5],\n",
    "       [1, 4, 3]], dtype=int32))\n",
    "```\n",
    "\n",
    "Looking just at the first row we get `[ 0.34763842,  0.24879643,  0.12789202]`, you can confirm these are the 3 largest probabilities in `a`. You'll also notice `[3, 0, 5]` are the corresponding indices."
   ]
  },
  {
   "cell_type": "code",
   "execution_count": 3,
   "metadata": {
    "collapsed": true
   },
   "outputs": [],
   "source": [
    "### Print out the top five softmax probabilities for the predictions on the German traffic sign images found on the web. \n",
    "### Feel free to use as many code cells as needed."
   ]
  },
  {
   "cell_type": "markdown",
   "metadata": {},
   "source": [
    "### Project Writeup\n",
    "\n",
    "Once you have completed the code implementation, document your results in a project writeup using this [template](https://github.com/udacity/CarND-Traffic-Sign-Classifier-Project/blob/master/writeup_template.md) as a guide. The writeup can be in a markdown or pdf file. "
   ]
  },
  {
   "cell_type": "markdown",
   "metadata": {},
   "source": [
    "> **Note**: Once you have completed all of the code implementations and successfully answered each question above, you may finalize your work by exporting the iPython Notebook as an HTML document. You can do this by using the menu above and navigating to  \\n\",\n",
    "    \"**File -> Download as -> HTML (.html)**. Include the finished document along with this notebook as your submission."
   ]
  },
  {
   "cell_type": "markdown",
   "metadata": {},
   "source": [
    "---\n",
    "\n",
    "## Step 4 (Optional): Visualize the Neural Network's State with Test Images\n",
    "\n",
    " This Section is not required to complete but acts as an additional excersise for understaning the output of a neural network's weights. While neural networks can be a great learning device they are often referred to as a black box. We can understand what the weights of a neural network look like better by plotting their feature maps. After successfully training your neural network you can see what it's feature maps look like by plotting the output of the network's weight layers in response to a test stimuli image. From these plotted feature maps, it's possible to see what characteristics of an image the network finds interesting. For a sign, maybe the inner network feature maps react with high activation to the sign's boundary outline or to the contrast in the sign's painted symbol.\n",
    "\n",
    " Provided for you below is the function code that allows you to get the visualization output of any tensorflow weight layer you want. The inputs to the function should be a stimuli image, one used during training or a new one you provided, and then the tensorflow variable name that represents the layer's state during the training process, for instance if you wanted to see what the [LeNet lab's](https://classroom.udacity.com/nanodegrees/nd013/parts/fbf77062-5703-404e-b60c-95b78b2f3f9e/modules/6df7ae49-c61c-4bb2-a23e-6527e69209ec/lessons/601ae704-1035-4287-8b11-e2c2716217ad/concepts/d4aca031-508f-4e0b-b493-e7b706120f81) feature maps looked like for it's second convolutional layer you could enter conv2 as the tf_activation variable.\n",
    "\n",
    "For an example of what feature map outputs look like, check out NVIDIA's results in their paper [End-to-End Deep Learning for Self-Driving Cars](https://devblogs.nvidia.com/parallelforall/deep-learning-self-driving-cars/) in the section Visualization of internal CNN State. NVIDIA was able to show that their network's inner weights had high activations to road boundary lines by comparing feature maps from an image with a clear path to one without. Try experimenting with a similar test to show that your trained network's weights are looking for interesting features, whether it's looking at differences in feature maps from images with or without a sign, or even what feature maps look like in a trained network vs a completely untrained one on the same sign image.\n",
    "\n",
    "<figure>\n",
    " <img src=\"visualize_cnn.png\" width=\"380\" alt=\"Combined Image\" />\n",
    " <figcaption>\n",
    " <p></p> \n",
    " <p style=\"text-align: center;\"> Your output should look something like this (above)</p> \n",
    " </figcaption>\n",
    "</figure>\n",
    " <p></p> \n"
   ]
  },
  {
   "cell_type": "code",
   "execution_count": null,
   "metadata": {
    "collapsed": true
   },
   "outputs": [],
   "source": [
    "### Visualize your network's feature maps here.\n",
    "### Feel free to use as many code cells as needed.\n",
    "\n",
    "# image_input: the test image being fed into the network to produce the feature maps\n",
    "# tf_activation: should be a tf variable name used during your training procedure that represents the calculated state of a specific weight layer\n",
    "# activation_min/max: can be used to view the activation contrast in more detail, by default matplot sets min and max to the actual min and max values of the output\n",
    "# plt_num: used to plot out multiple different weight feature map sets on the same block, just extend the plt number for each new feature map entry\n",
    "\n",
    "def outputFeatureMap(image_input, tf_activation, activation_min=-1, activation_max=-1 ,plt_num=1):\n",
    "    # Here make sure to preprocess your image_input in a way your network expects\n",
    "    # with size, normalization, ect if needed\n",
    "    # image_input =\n",
    "    # Note: x should be the same name as your network's tensorflow data placeholder variable\n",
    "    # If you get an error tf_activation is not defined it may be having trouble accessing the variable from inside a function\n",
    "    activation = tf_activation.eval(session=sess,feed_dict={x : image_input})\n",
    "    featuremaps = activation.shape[3]\n",
    "    plt.figure(plt_num, figsize=(15,15))\n",
    "    for featuremap in range(featuremaps):\n",
    "        plt.subplot(6,8, featuremap+1) # sets the number of feature maps to show on each row and column\n",
    "        plt.title('FeatureMap ' + str(featuremap)) # displays the feature map number\n",
    "        if activation_min != -1 & activation_max != -1:\n",
    "            plt.imshow(activation[0,:,:, featuremap], interpolation=\"nearest\", vmin =activation_min, vmax=activation_max, cmap=\"gray\")\n",
    "        elif activation_max != -1:\n",
    "            plt.imshow(activation[0,:,:, featuremap], interpolation=\"nearest\", vmax=activation_max, cmap=\"gray\")\n",
    "        elif activation_min !=-1:\n",
    "            plt.imshow(activation[0,:,:, featuremap], interpolation=\"nearest\", vmin=activation_min, cmap=\"gray\")\n",
    "        else:\n",
    "            plt.imshow(activation[0,:,:, featuremap], interpolation=\"nearest\", cmap=\"gray\")"
   ]
  }
 ],
 "metadata": {
  "anaconda-cloud": {},
  "kernelspec": {
   "display_name": "Python 3",
   "language": "python",
   "name": "python3"
  },
  "language_info": {
   "codemirror_mode": {
    "name": "ipython",
    "version": 3
   },
   "file_extension": ".py",
   "mimetype": "text/x-python",
   "name": "python",
   "nbconvert_exporter": "python",
   "pygments_lexer": "ipython3",
   "version": "3.5.2"
  },
  "widgets": {
   "state": {},
   "version": "1.1.2"
  }
 },
 "nbformat": 4,
 "nbformat_minor": 1
}
